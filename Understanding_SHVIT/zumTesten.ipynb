{
 "cells": [
  {
   "cell_type": "code",
   "execution_count": 3,
   "metadata": {},
   "outputs": [],
   "source": [
    "import numpy as np"
   ]
  },
  {
   "cell_type": "code",
   "execution_count": 6,
   "metadata": {},
   "outputs": [
    {
     "name": "stdout",
     "output_type": "stream",
     "text": [
      "112.0\n",
      "56.0\n",
      "28.0\n",
      "14.0\n"
     ]
    }
   ],
   "source": [
    "# 16x16 Patch Embedding\n",
    "kernel_size = 3\n",
    "padding = 0\n",
    "stride = 2\n",
    "chanels = [3, 32, 64, 128, 256]\n",
    "H_in = 224\n",
    "patch_size = 16\n",
    "\n",
    "for i in range(4):\n",
    "    H_out = np.floor((H_in - kernel_size + 2 * padding) / (stride)) + 1 + 1 # um auf die richtigen shapes zu kommen \n",
    "    # H_out = np.floor((H_in - patch_size) / stride) + 1 + 1 \n",
    "    # H_out = int((H_in - kernel_size + 2 * padding) / stride) + 1\n",
    "    H_in = H_out \n",
    "    print(H_in) # 111, 55, 27, 13"
   ]
  },
  {
   "cell_type": "code",
   "execution_count": 5,
   "metadata": {},
   "outputs": [
    {
     "name": "stdout",
     "output_type": "stream",
     "text": [
      "H_in:  33\n",
      "H_in:  67\n",
      "H_in:  135\n",
      "H_in:  271\n",
      "H_in:  543\n",
      "Calculated input size: 543\n"
     ]
    }
   ],
   "source": [
    "def calculate_input_size(patch_size, kernel_size, padding, stride, num_layers):\n",
    "    H_out = patch_size  # Final patch size\n",
    "    H_in = H_out\n",
    "    \n",
    "    # Work backwards through the layers\n",
    "    for _ in range(num_layers):\n",
    "        H_in = (stride * (H_in - 1)) + kernel_size - 2 * padding\n",
    "        print(\"H_in: \", H_in)\n",
    "    return H_in\n",
    "\n",
    "# Parameters\n",
    "patch_size = 16\n",
    "kernel_size = 3\n",
    "padding = 0\n",
    "stride = 2\n",
    "num_layers = 5  # Number of layers\n",
    "\n",
    "# Calculate the input size\n",
    "input_size = calculate_input_size(patch_size, kernel_size, padding, stride, num_layers)\n",
    "print(f\"Calculated input size: {input_size}\")"
   ]
  },
  {
   "cell_type": "code",
   "execution_count": null,
   "metadata": {},
   "outputs": [],
   "source": []
  }
 ],
 "metadata": {
  "kernelspec": {
   "display_name": "tf215",
   "language": "python",
   "name": "tf215"
  },
  "language_info": {
   "codemirror_mode": {
    "name": "ipython",
    "version": 3
   },
   "file_extension": ".py",
   "mimetype": "text/x-python",
   "name": "python",
   "nbconvert_exporter": "python",
   "pygments_lexer": "ipython3",
   "version": "3.10.13"
  }
 },
 "nbformat": 4,
 "nbformat_minor": 2
}
